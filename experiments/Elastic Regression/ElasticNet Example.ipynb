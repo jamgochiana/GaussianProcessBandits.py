{
 "cells": [
  {
   "cell_type": "code",
   "execution_count": 1,
   "metadata": {},
   "outputs": [],
   "source": [
    "import numpy as np\n",
    "from sklearn import datasets\n",
    "\n",
    "import sys\n",
    "sys.path.append(\"../../GaussianProcessBandits\")\n",
    "from gpbandits import *\n",
    "from models.elastic_net import *\n",
    "from models.helpers import *\n",
    "\n",
    "from sklearn.metrics import mean_squared_error"
   ]
  },
  {
   "cell_type": "code",
   "execution_count": 2,
   "metadata": {},
   "outputs": [],
   "source": [
    "# Load the diabetes dataset\n",
    "X, y = datasets.load_diabetes(return_X_y=True)\n",
    "X = X[0:200,:4]\n",
    "y = y[0:200]\n",
    "\n",
    "data = Dataset(X,y)"
   ]
  },
  {
   "cell_type": "code",
   "execution_count": 4,
   "metadata": {},
   "outputs": [
    {
     "name": "stdout",
     "output_type": "stream",
     "text": [
      "Lowest error: 3665.398765441054 with point value is [0.6161616161616162, 0.0]\n"
     ]
    }
   ],
   "source": [
    "model = ElasticNetReg()\n",
    "lowest_error = float(\"inf\")\n",
    "for point1 in np.linspace(0,1,100):\n",
    "    for point2 in np.linspace(0,1,100):\n",
    "        point = [point1, point2]\n",
    "        model.decode(point)\n",
    "        error = model.train_test_cv(data, 3)\n",
    "        #print(point, \" \", error)\n",
    "        if(error < lowest_error):\n",
    "            lowest_error = error\n",
    "            best_point = point\n",
    "            #print(lowest_error)\n",
    "        \n",
    "print(\"Lowest error: {} with point value is {}\".format(lowest_error,best_point))"
   ]
  },
  {
   "cell_type": "code",
   "execution_count": 5,
   "metadata": {},
   "outputs": [
    {
     "name": "stdout",
     "output_type": "stream",
     "text": [
      "Iteration: 000 | Score: 5.625749e+03\n",
      "Iteration: 001 | Score: 4.149420e+03\n",
      "Iteration: 002 | Score: 5.625749e+03\n",
      "Iteration: 003 | Score: 5.623966e+03\n",
      "Iteration: 004 | Score: 5.327197e+03\n",
      "Iteration: 005 | Score: 3.672466e+03\n",
      "Iteration: 006 | Score: 5.622696e+03\n",
      "Iteration: 007 | Score: 3.677951e+03\n",
      "Iteration: 008 | Score: 5.536786e+03\n",
      "Iteration: 009 | Score: 5.504415e+03\n",
      "Iteration: 010 | Score: 5.625749e+03\n",
      "Iteration: 011 | Score: 5.625749e+03\n",
      "Iteration: 012 | Score: 4.188469e+03\n",
      "Iteration: 013 | Score: 3.859783e+03\n",
      "Iteration: 014 | Score: 3.716025e+03\n",
      "Iteration: 015 | Score: 5.612122e+03\n",
      "Iteration: 016 | Score: 5.616975e+03\n",
      "Iteration: 017 | Score: 4.467230e+03\n",
      "Iteration: 018 | Score: 3.683296e+03\n",
      "Iteration: 019 | Score: 5.355547e+03\n",
      "Iteration: 020 | Score: 5.615179e+03\n"
     ]
    }
   ],
   "source": [
    "best_model, best_model_log_gp = gpbandits(model, data, iters=20, kernel='se', cl=0.1, v=0.1, best_model_log=True)"
   ]
  },
  {
   "cell_type": "markdown",
   "metadata": {},
   "source": [
    "## Best Model"
   ]
  },
  {
   "cell_type": "code",
   "execution_count": 6,
   "metadata": {},
   "outputs": [
    {
     "name": "stdout",
     "output_type": "stream",
     "text": [
      "Best point: [0.51759235 0.04608424]\n"
     ]
    }
   ],
   "source": [
    "print(\"Best point: {}\".format(best_model.encode()))"
   ]
  }
 ],
 "metadata": {
  "@webio": {
   "lastCommId": null,
   "lastKernelId": null
  },
  "kernelspec": {
   "display_name": "Python 3",
   "language": "python",
   "name": "python3"
  },
  "language_info": {
   "codemirror_mode": {
    "name": "ipython",
    "version": 3
   },
   "file_extension": ".py",
   "mimetype": "text/x-python",
   "name": "python",
   "nbconvert_exporter": "python",
   "pygments_lexer": "ipython3",
   "version": "3.7.4"
  }
 },
 "nbformat": 4,
 "nbformat_minor": 2
}
