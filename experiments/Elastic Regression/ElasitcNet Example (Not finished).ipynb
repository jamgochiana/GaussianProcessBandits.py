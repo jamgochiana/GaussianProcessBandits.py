{
 "cells": [
  {
   "cell_type": "code",
   "execution_count": 1,
   "metadata": {},
   "outputs": [],
   "source": [
    "import numpy as np\n",
    "from sklearn import datasets\n",
    "\n",
    "import sys\n",
    "sys.path.append(\"../../GaussianProcessBandits\")\n",
    "from gpbandits import *\n",
    "from models.elastic_net import *\n",
    "from models.validation import *\n",
    "\n",
    "from sklearn.metrics import mean_squared_error"
   ]
  },
  {
   "cell_type": "code",
   "execution_count": 2,
   "metadata": {},
   "outputs": [],
   "source": [
    "class dataset:\n",
    "    \n",
    "    def __init__(self, X, y):\n",
    "        self.X = X\n",
    "        self.y = y"
   ]
  },
  {
   "cell_type": "code",
   "execution_count": 3,
   "metadata": {},
   "outputs": [],
   "source": [
    "# Load the diabetes dataset\n",
    "X, y = datasets.load_diabetes(return_X_y=True)\n",
    "X = X[0:80,:3]\n",
    "y = y[0:80]\n",
    "\n",
    "data = dataset(X,y)"
   ]
  },
  {
   "cell_type": "code",
   "execution_count": null,
   "metadata": {},
   "outputs": [],
   "source": [
    "model = ElasticNetReg()\n",
    "lowest_error = float(\"inf\")\n",
    "for point1 in np.linspace(0,1,100):\n",
    "    for point2 in np.linspace(0,1,100):\n",
    "        point = [point1, point2]\n",
    "        model.decode(point)\n",
    "        error = model.train_test_cv(data, 4)\n",
    "        print(point, \" \", error)\n",
    "        if(error < lowest_error):\n",
    "            lowest_error = error\n",
    "            best_point = point\n",
    "        \n",
    "print(\"Lowest error: {} with point value is {}\".format(lowest_error,best_point))"
   ]
  },
  {
   "cell_type": "code",
   "execution_count": null,
   "metadata": {},
   "outputs": [],
   "source": []
  }
 ],
 "metadata": {
  "@webio": {
   "lastCommId": null,
   "lastKernelId": null
  },
  "kernelspec": {
   "display_name": "Python 3",
   "language": "python",
   "name": "python3"
  },
  "language_info": {
   "codemirror_mode": {
    "name": "ipython",
    "version": 3
   },
   "file_extension": ".py",
   "mimetype": "text/x-python",
   "name": "python",
   "nbconvert_exporter": "python",
   "pygments_lexer": "ipython3",
   "version": "3.7.4"
  }
 },
 "nbformat": 4,
 "nbformat_minor": 2
}
