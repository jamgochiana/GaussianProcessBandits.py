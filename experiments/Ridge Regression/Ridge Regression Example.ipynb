{
 "cells": [
  {
   "cell_type": "code",
   "execution_count": 1,
   "metadata": {},
   "outputs": [],
   "source": [
    "import numpy as np\n",
    "from sklearn import datasets\n",
    "\n",
    "import sys\n",
    "sys.path.append(\"../../GaussianProcessBandits\")\n",
    "from gpbandits import *\n",
    "from models.ridge_reg import *\n",
    "from models.validation import *\n",
    "\n",
    "from sklearn.metrics import mean_squared_error"
   ]
  },
  {
   "cell_type": "markdown",
   "metadata": {},
   "source": [
    "Simple Dataset"
   ]
  },
  {
   "cell_type": "code",
   "execution_count": 2,
   "metadata": {},
   "outputs": [],
   "source": [
    "class dataset:\n",
    "    \n",
    "    def __init__(self, X, y):\n",
    "        self.X = X\n",
    "        self.y = y"
   ]
  },
  {
   "cell_type": "code",
   "execution_count": 3,
   "metadata": {},
   "outputs": [],
   "source": [
    "# Load the diabetes dataset\n",
    "X, y = datasets.load_diabetes(return_X_y=True)\n",
    "X = X[0:80,:3]\n",
    "y = y[0:80]\n",
    "\n",
    "data = dataset(X,y)"
   ]
  },
  {
   "cell_type": "markdown",
   "metadata": {},
   "source": [
    "Grid Search"
   ]
  },
  {
   "cell_type": "code",
   "execution_count": 4,
   "metadata": {},
   "outputs": [
    {
     "name": "stdout",
     "output_type": "stream",
     "text": [
      "Lowest error: 4443.542413780338 with point value is 0.4444444444444445\n"
     ]
    }
   ],
   "source": [
    "model = RidgeReg()\n",
    "lowest_error = float(\"inf\")\n",
    "for point in np.linspace(0,1,100):\n",
    "    model.decode([point])\n",
    "    error = model.train_test_cv(data, 4)\n",
    "    #print(point,\" \", error)\n",
    "    if(error < lowest_error):\n",
    "        lowest_error = error\n",
    "        best_point = point\n",
    "        \n",
    "print(\"Lowest error: {} with point value is {}\".format(lowest_error,best_point))"
   ]
  },
  {
   "cell_type": "markdown",
   "metadata": {},
   "source": [
    "Gaussian Process Bandits Approach"
   ]
  },
  {
   "cell_type": "code",
   "execution_count": 5,
   "metadata": {},
   "outputs": [
    {
     "name": "stdout",
     "output_type": "stream",
     "text": [
      "Iteration: 000 | Design Point: 1.000000 | Score: 5.231318e+03\n",
      "Iteration: 001 | Design Point: 0.001154 | Score: 4.455403e+03\n",
      "Iteration: 002 | Design Point: 0.494044 | Score: 4.447358e+03\n",
      "Iteration: 003 | Design Point: 0.256163 | Score: 4.452982e+03\n",
      "Iteration: 004 | Design Point: 0.692154 | Score: 4.699374e+03\n",
      "Iteration: 005 | Design Point: 0.367962 | Score: 4.447666e+03\n",
      "Iteration: 006 | Design Point: 0.000318 | Score: 4.455404e+03\n",
      "Iteration: 007 | Design Point: 0.000292 | Score: 4.455404e+03\n",
      "Iteration: 008 | Design Point: 0.362233 | Score: 4.448041e+03\n",
      "Iteration: 009 | Design Point: 0.000059 | Score: 4.455405e+03\n",
      "Iteration: 010 | Design Point: 0.360006 | Score: 4.448185e+03\n",
      "Iteration: 011 | Design Point: 0.359004 | Score: 4.448249e+03\n",
      "Iteration: 012 | Design Point: 0.000267 | Score: 4.455404e+03\n",
      "Iteration: 013 | Design Point: 0.523481 | Score: 4.456703e+03\n",
      "Iteration: 014 | Design Point: 0.342551 | Score: 4.449263e+03\n",
      "Iteration: 015 | Design Point: 0.000154 | Score: 4.455405e+03\n",
      "Iteration: 016 | Design Point: 0.341140 | Score: 4.449346e+03\n",
      "Iteration: 017 | Design Point: 0.345432 | Score: 4.449092e+03\n",
      "Iteration: 018 | Design Point: 0.000680 | Score: 4.455404e+03\n",
      "Iteration: 019 | Design Point: 0.346928 | Score: 4.449001e+03\n",
      "Iteration: 020 | Design Point: 0.346360 | Score: 4.449036e+03\n",
      "Iteration: 021 | Design Point: 0.531599 | Score: 4.460700e+03\n",
      "Iteration: 022 | Design Point: 0.000365 | Score: 4.455404e+03\n",
      "Iteration: 023 | Design Point: 0.341094 | Score: 4.449348e+03\n",
      "Iteration: 024 | Design Point: 0.341766 | Score: 4.449309e+03\n",
      "Iteration: 025 | Design Point: 0.342604 | Score: 4.449260e+03\n",
      "Iteration: 026 | Design Point: 0.000771 | Score: 4.455404e+03\n",
      "Iteration: 027 | Design Point: 0.341850 | Score: 4.449304e+03\n",
      "Iteration: 028 | Design Point: 0.345153 | Score: 4.449108e+03\n",
      "Iteration: 029 | Design Point: 0.000327 | Score: 4.455404e+03\n",
      "Iteration: 030 | Design Point: 0.343021 | Score: 4.449235e+03\n",
      "Iteration: 031 | Design Point: 0.345046 | Score: 4.449115e+03\n",
      "Iteration: 032 | Design Point: 0.000825 | Score: 4.455403e+03\n",
      "Iteration: 033 | Design Point: 0.000009 | Score: 4.455405e+03\n",
      "Iteration: 034 | Design Point: 0.346828 | Score: 4.449008e+03\n",
      "Iteration: 035 | Design Point: 0.348620 | Score: 4.448899e+03\n",
      "Iteration: 036 | Design Point: 0.533404 | Score: 4.461686e+03\n",
      "Iteration: 037 | Design Point: 0.340717 | Score: 4.449370e+03\n",
      "Iteration: 038 | Design Point: 0.341009 | Score: 4.449353e+03\n",
      "Iteration: 039 | Design Point: 0.340172 | Score: 4.449402e+03\n",
      "Iteration: 040 | Design Point: 0.342383 | Score: 4.449273e+03\n",
      "Iteration: 041 | Design Point: 0.341119 | Score: 4.449347e+03\n",
      "Iteration: 042 | Design Point: 0.342439 | Score: 4.449269e+03\n",
      "Iteration: 043 | Design Point: 0.342792 | Score: 4.449249e+03\n",
      "Iteration: 044 | Design Point: 0.000389 | Score: 4.455404e+03\n",
      "Iteration: 045 | Design Point: 0.342920 | Score: 4.449241e+03\n",
      "Iteration: 046 | Design Point: 0.000491 | Score: 4.455404e+03\n",
      "Iteration: 047 | Design Point: 0.000686 | Score: 4.455404e+03\n",
      "Iteration: 048 | Design Point: 0.343606 | Score: 4.449200e+03\n",
      "Iteration: 049 | Design Point: 0.345228 | Score: 4.449104e+03\n",
      "Iteration: 050 | Design Point: 0.343191 | Score: 4.449225e+03\n"
     ]
    }
   ],
   "source": [
    "# run bandits\n",
    "best_model = gpbandits(model, data, iters=50, kernel='se', cl=0.2, v=0.05)"
   ]
  },
  {
   "cell_type": "code",
   "execution_count": null,
   "metadata": {},
   "outputs": [],
   "source": []
  }
 ],
 "metadata": {
  "@webio": {
   "lastCommId": null,
   "lastKernelId": null
  },
  "kernelspec": {
   "display_name": "Python 3",
   "language": "python",
   "name": "python3"
  },
  "language_info": {
   "codemirror_mode": {
    "name": "ipython",
    "version": 3
   },
   "file_extension": ".py",
   "mimetype": "text/x-python",
   "name": "python",
   "nbconvert_exporter": "python",
   "pygments_lexer": "ipython3",
   "version": "3.7.4"
  }
 },
 "nbformat": 4,
 "nbformat_minor": 2
}
