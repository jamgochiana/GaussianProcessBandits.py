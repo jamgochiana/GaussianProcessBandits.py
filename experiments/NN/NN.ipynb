{
 "cells": [
  {
   "cell_type": "code",
   "execution_count": 1,
   "metadata": {},
   "outputs": [],
   "source": [
    "import numpy as np\n",
    "import matplotlib.pyplot as plt\n",
    "import sys\n",
    "sys.path.append(\"../../GaussianProcessBandits\")\n",
    "\n",
    "from gpbandits import *\n",
    "from models.nn import *\n",
    "from models.helpers import *"
   ]
  },
  {
   "cell_type": "markdown",
   "metadata": {},
   "source": [
    "## Dataset Loading and Preprocessing"
   ]
  },
  {
   "cell_type": "code",
   "execution_count": 2,
   "metadata": {},
   "outputs": [
    {
     "name": "stdout",
     "output_type": "stream",
     "text": [
      "--------- Dataset --------\n",
      "Trainset size:60000\n",
      "Testset size:10000\n",
      "Input (already flattened) shape: torch.Size([1, 784])\n",
      "Original Input shape: (1,28,28)\n",
      "Example input:\n",
      "Label: 2\n"
     ]
    },
    {
     "data": {
      "image/png": "[encoded data removed]",
      "text/plain": [
       "<Figure size 432x288 with 1 Axes>"
      ]
     },
     "metadata": {
      "needs_background": "light"
     },
     "output_type": "display_data"
    }
   ],
   "source": [
    "pre_process = torchvision.transforms.Compose([\n",
    "                                  torchvision.transforms.ToTensor(),\n",
    "                                  torchvision.transforms.Normalize(\n",
    "                                      mean=(0.1307,),\n",
    "                                      std=(0.3081,)),\n",
    "                                  ReshapeTransform((-1,))])\n",
    "\n",
    "mnist_trainset = torchvision.datasets.MNIST(root='./data', train=True, download=True, transform=pre_process)\n",
    "mnist_testset = torchvision.datasets.MNIST(root='./data', train=False, download=True, transform=pre_process)\n",
    "\n",
    "batch_size = 1\n",
    "\n",
    "print(\"--------- Dataset --------\")\n",
    "print(\"Trainset size:{}\".format(len(mnist_trainset)))\n",
    "print(\"Testset size:{}\".format(len(mnist_testset)))\n",
    "\n",
    "train_loader = torch.utils.data.DataLoader(mnist_trainset,\n",
    "                                          batch_size=batch_size,\n",
    "                                          shuffle=True)\n",
    "test_loader = torch.utils.data.DataLoader(mnist_testset,\n",
    "                                          batch_size=4,\n",
    "                                          shuffle=True)\n",
    "\n",
    "data = Dataset(None, None, train_loader, test_loader, dataloader = True)\n",
    "\n",
    "batch_idx, (example_data, example_targets) = next(enumerate(train_loader))\n",
    "print(\"Input (already flattened) shape: {}\".format(example_data.shape))\n",
    "print(\"Original Input shape: (1,28,28)\")\n",
    "\n",
    "vis_example_data = example_data.reshape((batch_size,1,28,28))\n",
    "vis_example_data = vis_example_data[0,:,:,:].permute(1, 2, 0)\n",
    "print(\"Example input:\")\n",
    "print(\"Label: {}\".format(example_targets[0]))\n",
    "plt.figure()\n",
    "plt.imshow(vis_example_data[:,:,0].numpy(), cmap='gray')\n",
    "plt.show()"
   ]
  },
  {
   "cell_type": "markdown",
   "metadata": {},
   "source": [
    "## Model Initialization"
   ]
  },
  {
   "cell_type": "code",
   "execution_count": 3,
   "metadata": {},
   "outputs": [],
   "source": [
    "model = NeuralNet(input_dim = example_data.shape[1], num_classes = 10)"
   ]
  },
  {
   "cell_type": "markdown",
   "metadata": {},
   "source": [
    "## Model Optimization"
   ]
  },
  {
   "cell_type": "code",
   "execution_count": 4,
   "metadata": {},
   "outputs": [
    {
     "name": "stdout",
     "output_type": "stream",
     "text": [
      "Model. Num hid layers: 2, Num hid units: 64, Activation: ReLU(), Drop Prob: 0.1\n",
      "Training...\n",
      "Epoch 1, Training loss: 2.291\n",
      "Epoch 2, Training loss: 2.311\n",
      "Testing...\n",
      "Test Loss: 2.306777238845825\n",
      "Model. Num hid layers: 1, Num hid units: 58, Activation: ReLU(), Drop Prob: 0.952047262211741\n",
      "Training...\n",
      "Epoch 1, Training loss: 2.302\n",
      "Epoch 2, Training loss: 2.302\n",
      "Testing...\n",
      "Test Loss: 2.299034595489502\n",
      "Model. Num hid layers: 0, Num hid units: 44, Activation: Tanh(), Drop Prob: 0.23855388396952293\n",
      "Training...\n",
      "Epoch 1, Training loss: 2.330\n",
      "Epoch 2, Training loss: 2.308\n",
      "Testing...\n",
      "Test Loss: 2.295924663543701\n"
     ]
    }
   ],
   "source": [
    "best_model = gpbandits(model, data, iters=2, kernel='se', cl=0.1, v=0.1, verbose=False, best_model_log=False)"
   ]
  },
  {
   "cell_type": "code",
   "execution_count": 6,
   "metadata": {},
   "outputs": [
    {
     "name": "stdout",
     "output_type": "stream",
     "text": [
      "Model. Num hid layers: 0, Num hid units: 44, Activation: Tanh(), Drop Prob: 0.23855388396952293\n"
     ]
    }
   ],
   "source": [
    "best_model.print()"
   ]
  },
  {
   "cell_type": "code",
   "execution_count": null,
   "metadata": {},
   "outputs": [],
   "source": []
  }
 ],
 "metadata": {
  "@webio": {
   "lastCommId": null,
   "lastKernelId": null
  },
  "kernelspec": {
   "display_name": "Python 3",
   "language": "python",
   "name": "python3"
  },
  "language_info": {
   "codemirror_mode": {
    "name": "ipython",
    "version": 3
   },
   "file_extension": ".py",
   "mimetype": "text/x-python",
   "name": "python",
   "nbconvert_exporter": "python",
   "pygments_lexer": "ipython3",
   "version": "3.7.4"
  }
 },
 "nbformat": 4,
 "nbformat_minor": 2
}
