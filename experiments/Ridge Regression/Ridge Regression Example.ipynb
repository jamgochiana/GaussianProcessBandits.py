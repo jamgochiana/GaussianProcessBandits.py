{
 "cells": [
  {
   "cell_type": "markdown",
   "metadata": {},
   "source": [
    "# Ridge Regression Example"
   ]
  },
  {
   "cell_type": "code",
   "execution_count": 1,
   "metadata": {},
   "outputs": [],
   "source": [
    "import numpy as np\n",
    "import matplotlib.pyplot as plt\n",
    "\n",
    "import sys\n",
    "sys.path.append(\"../../GaussianProcessBandits\")\n",
    "from gpbandits import *\n",
    "from models.ridge_reg import *\n",
    "from models.helpers import *\n",
    "\n",
    "from sklearn import datasets\n",
    "from sklearn.metrics import mean_squared_error"
   ]
  },
  {
   "cell_type": "markdown",
   "metadata": {},
   "source": [
    "Simple Dataset Loading"
   ]
  },
  {
   "cell_type": "code",
   "execution_count": 25,
   "metadata": {},
   "outputs": [],
   "source": [
    "# Load the diabetes dataset\n",
    "X, y = datasets.load_diabetes(return_X_y=True)\n",
    "X = X[0:100,:]\n",
    "y = y[0:100]\n",
    "\n",
    "data = Dataset(X,y)"
   ]
  },
  {
   "cell_type": "markdown",
   "metadata": {},
   "source": [
    "## Grid Search"
   ]
  },
  {
   "cell_type": "code",
   "execution_count": 41,
   "metadata": {},
   "outputs": [
    {
     "name": "stdout",
     "output_type": "stream",
     "text": [
      "Lowest error: 3086.381448412221 with point value 0.18181818181818182\n"
     ]
    }
   ],
   "source": [
    "model = RidgeReg()\n",
    "lowest_error = float(\"inf\")\n",
    "for point in np.linspace(0,1,100):\n",
    "    model.decode([point])\n",
    "    error = model.train_test_cv(data)\n",
    "    #print(point,\" \", error)\n",
    "    if(error < lowest_error):\n",
    "        lowest_error = error\n",
    "        best_point = point\n",
    "        \n",
    "print(\"Lowest error: {} with point value {}\".format(lowest_error,best_point))"
   ]
  },
  {
   "cell_type": "markdown",
   "metadata": {},
   "source": [
    "## Random Sample"
   ]
  },
  {
   "cell_type": "code",
   "execution_count": 32,
   "metadata": {},
   "outputs": [],
   "source": [
    "model = RidgeReg()\n",
    "lowest_error = np.finfo(\"float\").max\n",
    "n_samples = 50\n",
    "best_model_log_random = []\n",
    "\n",
    "for i in range(n_samples):\n",
    "    point = np.random.rand(1)\n",
    "    model.decode(point)\n",
    "    error = model.train_test_cv(data)\n",
    "    if(error < lowest_error):\n",
    "        lowest_error = error\n",
    "        best_point = point\n",
    "    best_model_log_random.append(best_point)\n",
    "    "
   ]
  },
  {
   "cell_type": "markdown",
   "metadata": {},
   "source": [
    "## Gaussian Process Bandits Approach"
   ]
  },
  {
   "cell_type": "code",
   "execution_count": 34,
   "metadata": {},
   "outputs": [
    {
     "name": "stdout",
     "output_type": "stream",
     "text": [
      "Iteration: 000 | Design Point: 0.353470 | Score: 3.481436e+03\n",
      "Iteration: 001 | Design Point: 0.999911 | Score: 1.322498e+04\n",
      "Iteration: 002 | Design Point: 0.002249 | Score: 3.207036e+03\n",
      "Iteration: 003 | Design Point: 0.653729 | Score: 4.699553e+03\n",
      "Iteration: 004 | Design Point: 0.174727 | Score: 3.086424e+03\n",
      "Iteration: 005 | Design Point: 0.479546 | Score: 4.080743e+03\n",
      "Iteration: 006 | Design Point: 0.779452 | Score: 5.438345e+03\n",
      "Iteration: 007 | Design Point: 0.239553 | Score: 3.129171e+03\n",
      "Iteration: 008 | Design Point: 0.001765 | Score: 3.207379e+03\n",
      "Iteration: 009 | Design Point: 0.165053 | Score: 3.087937e+03\n",
      "Iteration: 010 | Design Point: 0.188390 | Score: 3.087225e+03\n",
      "Iteration: 011 | Design Point: 0.185805 | Score: 3.086788e+03\n",
      "Iteration: 012 | Design Point: 0.185309 | Score: 3.086720e+03\n",
      "Iteration: 013 | Design Point: 0.185873 | Score: 3.086797e+03\n",
      "Iteration: 014 | Design Point: 0.188553 | Score: 3.087257e+03\n",
      "Iteration: 015 | Design Point: 0.000497 | Score: 3.208275e+03\n",
      "Iteration: 016 | Design Point: 0.191713 | Score: 3.087996e+03\n",
      "Iteration: 017 | Design Point: 0.187451 | Score: 3.087050e+03\n",
      "Iteration: 018 | Design Point: 0.183776 | Score: 3.086541e+03\n",
      "Iteration: 019 | Design Point: 0.187996 | Score: 3.087149e+03\n",
      "Iteration: 020 | Design Point: 0.188713 | Score: 3.087290e+03\n",
      "Iteration: 021 | Design Point: 0.189042 | Score: 3.087358e+03\n",
      "Iteration: 022 | Design Point: 0.186599 | Score: 3.086907e+03\n",
      "Iteration: 023 | Design Point: 0.184599 | Score: 3.086631e+03\n",
      "Iteration: 024 | Design Point: 0.188081 | Score: 3.087165e+03\n",
      "Iteration: 025 | Design Point: 0.187347 | Score: 3.087032e+03\n",
      "Iteration: 026 | Design Point: 0.193888 | Score: 3.088630e+03\n",
      "Iteration: 027 | Design Point: 0.183302 | Score: 3.086495e+03\n",
      "Iteration: 028 | Design Point: 0.185619 | Score: 3.086762e+03\n",
      "Iteration: 029 | Design Point: 0.186903 | Score: 3.086956e+03\n",
      "Iteration: 030 | Design Point: 0.186471 | Score: 3.086887e+03\n",
      "Iteration: 031 | Design Point: 0.186920 | Score: 3.086959e+03\n",
      "Iteration: 032 | Design Point: 0.186358 | Score: 3.086870e+03\n",
      "Iteration: 033 | Design Point: 0.187665 | Score: 3.087088e+03\n",
      "Iteration: 034 | Design Point: 0.186458 | Score: 3.086885e+03\n",
      "Iteration: 035 | Design Point: 0.187166 | Score: 3.087001e+03\n",
      "Iteration: 036 | Design Point: 0.185380 | Score: 3.086729e+03\n",
      "Iteration: 037 | Design Point: 0.184765 | Score: 3.086651e+03\n",
      "Iteration: 038 | Design Point: 0.186430 | Score: 3.086881e+03\n",
      "Iteration: 039 | Design Point: 0.188150 | Score: 3.087179e+03\n",
      "Iteration: 040 | Design Point: 0.186990 | Score: 3.086971e+03\n",
      "Iteration: 041 | Design Point: 0.188400 | Score: 3.087227e+03\n",
      "Iteration: 042 | Design Point: 0.186642 | Score: 3.086914e+03\n",
      "Iteration: 043 | Design Point: 0.184965 | Score: 3.086675e+03\n",
      "Iteration: 044 | Design Point: 0.190570 | Score: 3.087704e+03\n",
      "Iteration: 045 | Design Point: 0.187121 | Score: 3.086993e+03\n",
      "Iteration: 046 | Design Point: 0.187588 | Score: 3.087074e+03\n",
      "Iteration: 047 | Design Point: 0.186516 | Score: 3.086894e+03\n",
      "Iteration: 048 | Design Point: 0.186737 | Score: 3.086929e+03\n",
      "Iteration: 049 | Design Point: 0.189137 | Score: 3.087378e+03\n"
     ]
    }
   ],
   "source": [
    "best_model, best_model_log_gp = gpbandits(model, data, iters=n_samples-1, kernel='se', cl=0.1, v=0.1, best_model_log=True)"
   ]
  },
  {
   "cell_type": "markdown",
   "metadata": {},
   "source": [
    "## Comparison"
   ]
  },
  {
   "cell_type": "code",
   "execution_count": 39,
   "metadata": {},
   "outputs": [
    {
     "data": {
      "image/png": "[encoded data removed]",
      "text/plain": [
       "<Figure size 432x288 with 1 Axes>"
      ]
     },
     "metadata": {
      "needs_background": "light"
     },
     "output_type": "display_data"
    }
   ],
   "source": [
    "plt.plot(best_model_log_gp, label=\"GPB\")\n",
    "plt.plot(best_model_log_random, label=\"Random Search\")\n",
    "plt.plot(best_point*np.ones(n_samples-1), \"--\", label=\"Grid Seach\")\n",
    "plt.xlabel(\"Iteration\")\n",
    "plt.ylabel(\"L1 Coefficient Value [0,1)\")\n",
    "plt.title(\"Ridge Regression L1 Coefficient Tuning\")\n",
    "plt.legend()\n",
    "plt.savefig(\"ComparisonGPBvsRandomSearch\")"
   ]
  }
 ],
 "metadata": {
  "@webio": {
   "lastCommId": null,
   "lastKernelId": null
  },
  "kernelspec": {
   "display_name": "Python 3",
   "language": "python",
   "name": "python3"
  },
  "language_info": {
   "codemirror_mode": {
    "name": "ipython",
    "version": 3
   },
   "file_extension": ".py",
   "mimetype": "text/x-python",
   "name": "python",
   "nbconvert_exporter": "python",
   "pygments_lexer": "ipython3",
   "version": "3.7.4"
  }
 },
 "nbformat": 4,
 "nbformat_minor": 2
}
