{
 "cells": [
  {
   "cell_type": "code",
   "execution_count": 1,
   "metadata": {},
   "outputs": [],
   "source": [
    "import numpy as np\n",
    "import matplotlib.pyplot as plt\n",
    "import sys\n",
    "sys.path.append(\"../../GaussianProcessBandits\")\n",
    "\n",
    "from gpbandits import *\n",
    "from models.nn import *\n",
    "from models.helpers import *"
   ]
  },
  {
   "cell_type": "markdown",
   "metadata": {},
   "source": [
    "## Dataset Loading and Preprocessing"
   ]
  },
  {
   "cell_type": "code",
   "execution_count": 2,
   "metadata": {},
   "outputs": [
    {
     "name": "stdout",
     "output_type": "stream",
     "text": [
      "--------- Dataset --------\n",
      "Trainset size:60000\n",
      "Testset size:10000\n",
      "Input (already flattened) shape: torch.Size([20, 784])\n",
      "Original Input shape: (1,28,28)\n",
      "Example input:\n",
      "Label: 5\n"
     ]
    },
    {
     "data": {
      "image/png": "[encoded data removed]",
      "text/plain": [
       "<Figure size 432x288 with 1 Axes>"
      ]
     },
     "metadata": {
      "needs_background": "light"
     },
     "output_type": "display_data"
    }
   ],
   "source": [
    "pre_process = torchvision.transforms.Compose([\n",
    "                                  torchvision.transforms.ToTensor(),\n",
    "                                  torchvision.transforms.Normalize(\n",
    "                                      mean=(0.1307,),\n",
    "                                      std=(0.3081,)),\n",
    "                                  ReshapeTransform((-1,))])\n",
    "\n",
    "mnist_trainset = torchvision.datasets.MNIST(root='./data', train=True, download=True, transform=pre_process)\n",
    "mnist_testset = torchvision.datasets.MNIST(root='./data', train=False, download=True, transform=pre_process)\n",
    "\n",
    "batch_size = 20\n",
    "\n",
    "print(\"--------- Dataset --------\")\n",
    "print(\"Trainset size:{}\".format(len(mnist_trainset)))\n",
    "print(\"Testset size:{}\".format(len(mnist_testset)))\n",
    "\n",
    "train_loader = torch.utils.data.DataLoader(mnist_trainset,\n",
    "                                          batch_size=batch_size,\n",
    "                                          shuffle=True)\n",
    "test_loader = torch.utils.data.DataLoader(mnist_testset,\n",
    "                                          batch_size=batch_size,\n",
    "                                          shuffle=True)\n",
    "\n",
    "data = Dataset(None, None, train_loader, test_loader, dataloader = True)\n",
    "\n",
    "batch_idx, (example_data, example_targets) = next(enumerate(train_loader))\n",
    "print(\"Input (already flattened) shape: {}\".format(example_data.shape))\n",
    "print(\"Original Input shape: (1,28,28)\")\n",
    "\n",
    "vis_example_data = example_data.reshape((batch_size,1,28,28))\n",
    "vis_example_data = vis_example_data[0,:,:,:].permute(1, 2, 0)\n",
    "print(\"Example input:\")\n",
    "print(\"Label: {}\".format(example_targets[0]))\n",
    "plt.figure()\n",
    "plt.imshow(vis_example_data[:,:,0].numpy(), cmap='gray')\n",
    "plt.show()"
   ]
  },
  {
   "cell_type": "markdown",
   "metadata": {},
   "source": [
    "## Model Initialization"
   ]
  },
  {
   "cell_type": "code",
   "execution_count": 3,
   "metadata": {},
   "outputs": [
    {
     "name": "stdout",
     "output_type": "stream",
     "text": [
      "Using GPU.\n",
      "       Model. Num hid layers: 2, Num hid units: 65, Activation: ReLU(), Drop Prob: 0.1\n"
     ]
    }
   ],
   "source": [
    "model = NeuralNet(input_dim = example_data.shape[1], num_classes = 10)"
   ]
  },
  {
   "cell_type": "markdown",
   "metadata": {},
   "source": [
    "## Model Optimization"
   ]
  },
  {
   "cell_type": "code",
   "execution_count": null,
   "metadata": {
    "scrolled": false
   },
   "outputs": [
    {
     "name": "stdout",
     "output_type": "stream",
     "text": [
      "training loss:  6906.047703742981\n",
      "training loss:  6901.487493515015\n",
      "training loss:  6895.328401088715\n",
      "training loss:  6885.099624872208\n",
      "training loss:  6859.925954580307\n",
      "training loss:  6765.283633470535\n",
      "training loss:  6668.700335979462\n",
      "training loss:  6559.17412674427\n",
      "training loss:  6436.593518853188\n",
      "training loss:  6256.510727405548\n",
      "training loss:  6042.436338186264\n"
     ]
    }
   ],
   "source": [
    "best_model = gpbandits(model, data, iters=10, kernel='se', cl=0.1, v=0.1, verbose=True, best_model_log=False)"
   ]
  },
  {
   "cell_type": "code",
   "execution_count": null,
   "metadata": {},
   "outputs": [],
   "source": [
    "best_model.print()"
   ]
  }
 ],
 "metadata": {
  "@webio": {
   "lastCommId": null,
   "lastKernelId": null
  },
  "kernelspec": {
   "display_name": "Python 3",
   "language": "python",
   "name": "python3"
  },
  "language_info": {
   "codemirror_mode": {
    "name": "ipython",
    "version": 3
   },
   "file_extension": ".py",
   "mimetype": "text/x-python",
   "name": "python",
   "nbconvert_exporter": "python",
   "pygments_lexer": "ipython3",
   "version": "3.7.4"
  }
 },
 "nbformat": 4,
 "nbformat_minor": 2
}
